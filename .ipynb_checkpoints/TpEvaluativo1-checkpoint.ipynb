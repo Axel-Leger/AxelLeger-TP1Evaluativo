{
 "cells": [
  {
   "cell_type": "markdown",
   "id": "d5b0f8ff-9dd7-4834-ad57-b2931ad153d4",
   "metadata": {
    "jp-MarkdownHeadingCollapsed": true
   },
   "source": [
    "# 1. Bucles"
   ]
  },
  {
   "cell_type": "markdown",
   "id": "d62d387a-154f-46e5-a86e-63fc8b1bec16",
   "metadata": {},
   "source": [
    "**Actividad 1.1**\n",
    ". Escribir un programa que muestre el print de todo lo que el usuario introduzca hasta que el usuario escriba “salir” que terminará."
   ]
  },
  {
   "cell_type": "code",
   "execution_count": 2,
   "id": "48879db7-0ba9-4a46-b3cb-d403344e2905",
   "metadata": {},
   "outputs": [
    {
     "name": "stdout",
     "output_type": "stream",
     "text": [
      "Escribí algo para mostrar en pantalla o salir para terminar  algo1\n"
     ]
    },
    {
     "name": "stdout",
     "output_type": "stream",
     "text": [
      "algo1\n"
     ]
    },
    {
     "name": "stdout",
     "output_type": "stream",
     "text": [
      "Escribí algo para mostrar en pantalla o salir para terminar  alog2\n"
     ]
    },
    {
     "name": "stdout",
     "output_type": "stream",
     "text": [
      "alog2\n"
     ]
    },
    {
     "name": "stdout",
     "output_type": "stream",
     "text": [
      "Escribí algo para mostrar en pantalla o salir para terminar  salir\n"
     ]
    }
   ],
   "source": [
    "def escribir_usario():\n",
    "    while True:\n",
    "        user_escrito = input(\"Escribí algo para mostrar en pantalla o salir para terminar \")\n",
    "        if user_escrito.lower() == \"salir\":\n",
    "            break\n",
    "        print(user_escrito)\n",
    "\n",
    "escribir_usario()"
   ]
  },
  {
   "cell_type": "markdown",
   "id": "05f4efd9-72c4-45bf-b4e5-9183e2fb9c7a",
   "metadata": {},
   "source": [
    "**Actividad 2.2**\n",
    ".  Escribir un programa que pida al usuario un número entero y muestre por pantalla un triángulo rectángulo como el de más abajo con la cantidad de escalones indicados previamente (los numeros dentro del triangulo deben ser enteros aleatorios del 0 al 9).\n",
    "* 1\n",
    "* 3 1\n",
    "* 5 3 1\n",
    "* 7 5 3 1\n",
    "* 9 7 5 3 1"
   ]
  },
  {
   "cell_type": "code",
   "execution_count": 6,
   "id": "4090c81a-0d46-4974-b72e-f3007a157889",
   "metadata": {},
   "outputs": [
    {
     "name": "stdout",
     "output_type": "stream",
     "text": [
      "Ingrese la cantidad de filas del triángulo:  6\n"
     ]
    },
    {
     "name": "stdout",
     "output_type": "stream",
     "text": [
      "3 \n",
      "6 0 \n",
      "2 5 1 \n",
      "0 3 5 3 \n",
      "6 5 2 4 2 \n",
      "6 3 7 4 1 1 \n"
     ]
    }
   ],
   "source": [
    "import random  \n",
    "\n",
    "numero = int(input(\"Ingrese un numero \"))\n",
    "\n",
    "def triangulo(numero):\n",
    "    for fila in range(1, numero + 1):  \n",
    "        for _ in range(fila): \n",
    "            numero_aleatorio = random.randint(0, 9) \n",
    "            print(numero_aleatorio, end=\" \") \n",
    "        print() \n",
    "\n",
    "triangulo(numero)"
   ]
  },
  {
   "cell_type": "markdown",
   "id": "be150ad4-d1de-4eb6-9000-7611687e0f09",
   "metadata": {
    "jp-MarkdownHeadingCollapsed": true
   },
   "source": [
    "# 2. Listas y Tuplas"
   ]
  },
  {
   "cell_type": "markdown",
   "id": "7eb4a17e-8dfb-4e21-be77-9ef11b3e42e1",
   "metadata": {},
   "source": [
    "**Actividad 2.1**\n",
    ". Escribir un programa que pida al usuario una frase y muestre por pantalla el número de veces que contiene cada vocal y la cantidad de espacios en blanco."
   ]
  },
  {
   "cell_type": "code",
   "execution_count": 10,
   "id": "78734819-f515-4413-9820-ed0bdf128259",
   "metadata": {},
   "outputs": [
    {
     "name": "stdout",
     "output_type": "stream",
     "text": [
      "Escriba una frase:  mi frase uwu con algunas vocales uwuwuw\n"
     ]
    },
    {
     "data": {
      "text/plain": [
       "{'a': 4, 'e': 2, 'i': 1, 'o': 2, 'u': 6, 'espacios': 6}"
      ]
     },
     "execution_count": 10,
     "metadata": {},
     "output_type": "execute_result"
    }
   ],
   "source": [
    "frase = input(\"Escriba una frase: \")\n",
    "\n",
    "def contar_vocales_espacios():\n",
    "    contenido_frase = frase.lower()\n",
    "    conteo = {\"a\":0, \"e\":0, \"i\":0, \"o\":0, \"u\":0, \"espacios\":0}\n",
    "    for caracter in contenido_frase:\n",
    "        if caracter in conteo:\n",
    "            conteo[caracter] += 1\n",
    "        elif caracter == \" \":\n",
    "            conteo[\"espacios\"] += 1\n",
    "    return conteo\n",
    "\n",
    "contar_vocales_espacios()"
   ]
  },
  {
   "cell_type": "markdown",
   "id": "008cd817-13e2-4fc5-971a-281ca98f2bfd",
   "metadata": {},
   "source": [
    "**Actividad 2.2**\n",
    ". Escribir un programa que cree una matriz (con numeros aleatorios del 1 al 100) usando las dimensiones de X e Y que el usuario deberia ingresar por consola, luego crea una tupla con la matriz transpuesta y por ultimo las muestra ambas por consola ."
   ]
  },
  {
   "cell_type": "code",
   "execution_count": 11,
   "id": "9d5739c3-4382-4bcb-b575-b0aad3d6ac5b",
   "metadata": {},
   "outputs": [
    {
     "name": "stdout",
     "output_type": "stream",
     "text": [
      "Columnas:  2\n",
      "Filas:  3\n"
     ]
    },
    {
     "name": "stdout",
     "output_type": "stream",
     "text": [
      "Matriz:  [[27, 21], [32, 33], [79, 55]]\n",
      "Transpuesta:  [(27, 32, 79), (21, 33, 55)]\n"
     ]
    }
   ],
   "source": [
    "import random\n",
    "\n",
    "def crear_matriz(x, y):\n",
    "    matriz = [[random.randint(1, 100) for _ in range(x)] for _ in range(y)]\n",
    "    return matriz\n",
    "\n",
    "def transponer_matriz(matriz):\n",
    "    return list(map(tuple, zip(*matriz)))\n",
    "\n",
    "x = int(input(\"Columnas: \"))\n",
    "y = int(input(\"Filas: \"))\n",
    "matriz = crear_matriz(x, y)\n",
    "transpuesta = transponer_matriz(matriz)\n",
    "print(\"Matriz: \", matriz)\n",
    "print(\"Transpuesta: \", transpuesta)\n"
   ]
  },
  {
   "cell_type": "markdown",
   "id": "d7219163-ac0c-4ffb-83ba-43124a7ea7b4",
   "metadata": {},
   "source": [
    "**Actividad 2.3**\n",
    ". Escribir un programa que almacene en una lista los siguientes precios, 50, 75, 46, 22, 80, 65, 8, y muestre por pantalla el menor y el mayor de los precios"
   ]
  },
  {
   "cell_type": "code",
   "execution_count": 6,
   "id": "20e76d57-562c-452c-b0d9-2d8ccd6546ea",
   "metadata": {},
   "outputs": [
    {
     "name": "stdout",
     "output_type": "stream",
     "text": [
      "(80, 8)\n"
     ]
    }
   ],
   "source": [
    "lista_num = [50,75,46,22,80,65,8]\n",
    "\n",
    "def muestra_num():\n",
    "    return max(lista_num), min(lista_num)\n",
    "\n",
    "print(muestra_num())\n"
   ]
  },
  {
   "cell_type": "markdown",
   "id": "b6d92869-ba39-4d5f-ae64-1737c13d751c",
   "metadata": {
    "jp-MarkdownHeadingCollapsed": true
   },
   "source": [
    "#  3. Diccionarios"
   ]
  },
  {
   "cell_type": "markdown",
   "id": "fd2e2f42-2d80-4b45-b2b2-588119f55f0b",
   "metadata": {},
   "source": [
    "**Actividad 3.1**\n",
    ".  Escribir un programa que cree un diccionario simulando una cesta de la compra. El programa debe preguntar el artículo y su precio y añadir el par al diccionario, hasta que el usuario decida terminar. Después se debe mostrar por pantalla la lista de la compra y el coste total, con el siguiente formato."
   ]
  },
  {
   "cell_type": "code",
   "execution_count": 12,
   "id": "f351b2c0-9a55-4413-9da3-4cfa583bbf3f",
   "metadata": {},
   "outputs": [
    {
     "name": "stdout",
     "output_type": "stream",
     "text": [
      "Ingrese el producto o escribe fin para terminar:   pan\n",
      "ingrese el precio del producto:  20\n",
      "Ingrese el producto o escribe fin para terminar:   leche\n",
      "ingrese el precio del producto:  30\n",
      "Ingrese el producto o escribe fin para terminar:   fin\n"
     ]
    },
    {
     "name": "stdout",
     "output_type": "stream",
     "text": [
      "| productos  | precios |\n",
      "|------------|---------|\n",
      "| pan | 20.0 |\n",
      "| leche | 30.0 |\n",
      "| total | 50.0 |\n"
     ]
    }
   ],
   "source": [
    "def cesta_de_compra():\n",
    "    cesta = {}\n",
    "    while True:\n",
    "        producto = input(\"Ingrese el producto o escribe fin para terminar:  \")\n",
    "        if producto.lower() == \"fin\":\n",
    "            break\n",
    "        precio = float(input(\"ingrese el precio del producto: \"))\n",
    "        cesta[producto] = precio\n",
    "\n",
    "    total = sum(cesta.values())\n",
    "    print(\"| productos  | precios |\")\n",
    "    print(\"|------------|---------|\")\n",
    "    for producto, precio in cesta.items():\n",
    "        print(f\"| {producto} | {precio} |\")\n",
    "    print(f\"| total | {total} |\")\n",
    "\n",
    "cesta_de_compra()"
   ]
  },
  {
   "cell_type": "markdown",
   "id": "c629f46d-16a1-4e5e-b6b8-363ad3ac4b4b",
   "metadata": {},
   "source": [
    "**Actividad 3.2**\n",
    ". Escribir un programa que cree un diccionario de traducción español-inglés. El usuario introducirá las palabras en español e inglés separadas por dos puntos, y cada par <palabra> : <traducción> separados por comas (es decir, solo se debe usar **UNA VEZ** la función input para la carga de palabras). El programa debe crear un diccionario con las palabras y sus traducciones. Después pedirá una frase en español y utilizará el diccionario para traducirla palabra a palabra. Si una palabra no está en el diccionario debe dejarla sin traducir."
   ]
  },
  {
   "cell_type": "code",
   "execution_count": 17,
   "id": "1cfb6816-9997-4197-9acc-b575396e8d84",
   "metadata": {},
   "outputs": [
    {
     "name": "stdout",
     "output_type": "stream",
     "text": [
      "Introduce las traducciones (formato 'es:en, es:en'):  gato:cat, muy:very, gordo:fat\n",
      "Escribe la frase para traducir:  ese gato esta muy gordo\n"
     ]
    },
    {
     "name": "stdout",
     "output_type": "stream",
     "text": [
      "Frase traducida: ese cat esta very fat\n"
     ]
    }
   ],
   "source": [
    "pregunta = input(\"Introduce las traducciones (formato 'es:en, es:en'): \")\n",
    "diccionario = {}\n",
    "pares = pregunta.split(\",\") \n",
    "\n",
    "for par in pares:\n",
    "    esp, ing = par.strip().split(\":\") \n",
    "    diccionario[esp.strip()] = ing.strip()\n",
    "\n",
    "frase = input(\"Escribe la frase para traducir: \")\n",
    "palabras = frase.split()\n",
    "traduccion = []\n",
    "\n",
    "for palabra in palabras:\n",
    "    if palabra in diccionario:\n",
    "        traduccion.append(diccionario[palabra])\n",
    "    else:\n",
    "        traduccion.append(palabra)\n",
    "        \n",
    "frase_traducida = \" \".join(traduccion)\n",
    "print(\"Frase traducida:\", frase_traducida)"
   ]
  },
  {
   "cell_type": "markdown",
   "id": "6a4c6fcc-0294-4905-92a6-983209c2e413",
   "metadata": {},
   "source": [
    "**Actividad 3.3**\n",
    ". Escribir un programa que reciba una cadena de caracteres y devuelva un diccionario con cada palabra que contiene y su frecuencia. Escribir otra función que reciba el diccionario generado con la función anterior y devuelva una tupla con la palabra más repetida y su frecuencia."
   ]
  },
  {
   "cell_type": "code",
   "execution_count": 19,
   "id": "76563c56-46db-48b1-97d0-ff359344041d",
   "metadata": {},
   "outputs": [
    {
     "name": "stdout",
     "output_type": "stream",
     "text": [
      "Escribe una frase:    la mama de juanita es muy mala y la gata tambien, igual que la hermana\n"
     ]
    },
    {
     "name": "stdout",
     "output_type": "stream",
     "text": [
      "Frecuencia de palabras: {'la': 3, 'mama': 1, 'de': 1, 'juanita': 1, 'es': 1, 'muy': 1, 'mala': 1, 'y': 1, 'gata': 1, 'tambien,': 1, 'igual': 1, 'que': 1, 'hermana': 1}\n",
      "Palabra más repetida: ('la', 3)\n"
     ]
    }
   ],
   "source": [
    "def contar_palabras(cadena):\n",
    "    palabras = cadena.lower().split()\n",
    "    frecuencia = {}\n",
    "\n",
    "    for palabra in palabras:\n",
    "        if palabra in frecuencia:\n",
    "            frecuencia[palabra] += 1\n",
    "        else:\n",
    "            frecuencia[palabra] = 1\n",
    "\n",
    "    return frecuencia\n",
    "\n",
    "def palabra_mas_repetida(diccionario):\n",
    "    max_palabra = max(diccionario, key=diccionario.get)\n",
    "    return (max_palabra, diccionario[max_palabra])\n",
    "\n",
    "texto = input(\"Escribe una frase: \")\n",
    "diccionario_frecuencias = contar_palabras(texto)\n",
    "print(\"Frecuencia de palabras:\", diccionario_frecuencias)\n",
    "\n",
    "mas_repetida = palabra_mas_repetida(diccionario_frecuencias)\n",
    "print(\"Palabra más repetida:\", mas_repetida)"
   ]
  },
  {
   "cell_type": "markdown",
   "id": "b9c6151f-a0c7-4ce6-92d8-209ead0ac031",
   "metadata": {
    "jp-MarkdownHeadingCollapsed": true
   },
   "source": [
    "# 4. Funciones"
   ]
  },
  {
   "cell_type": "markdown",
   "id": "a6b6a17b-1265-4b18-8cbd-b4d1735695ba",
   "metadata": {},
   "source": [
    "**Actividad 4.1**\n",
    ". Escribir una función que calcule el total de una factura tras aplicarle el IVA. La función debe recibir la cantidad sin IVA y el porcentaje de IVA a aplicar, y devolver el total de la factura. Si se invoca la función sin pasarle el porcentaje de IVA, deberá aplicar un 21%."
   ]
  },
  {
   "cell_type": "code",
   "execution_count": 22,
   "id": "9afc54ce-0054-40ef-afdd-70a89d0152a8",
   "metadata": {},
   "outputs": [
    {
     "name": "stdout",
     "output_type": "stream",
     "text": [
      "Ingrese el monto sin IVA:  2000\n",
      "Ingrese el porcentaje de IVA, si no escribe se pondra 21% por default:  20\n"
     ]
    },
    {
     "name": "stdout",
     "output_type": "stream",
     "text": [
      "El total de 2000.0 con IVA del 20.0% es: 2400.0\n"
     ]
    }
   ],
   "source": [
    "def calcular_factura(cantidad_sin_iva, porcentaje_iva=21):\n",
    "    total = cantidad_sin_iva * (1 + porcentaje_iva / 100)\n",
    "    return total\n",
    "\n",
    "cantidad = float(input(\"Ingrese el monto sin IVA: \"))\n",
    "iva_input = input(\"Ingrese el porcentaje de IVA, si no escribe se pondra 21% por default: \")\n",
    "\n",
    "if iva_input:\n",
    "    iva = float(iva_input)\n",
    "else:\n",
    "    iva = 21\n",
    "\n",
    "# Calculamos el total\n",
    "total = calcular_factura(cantidad, iva)\n",
    "print(f\"El total de {cantidad} con IVA del {iva}% es: {total}\")"
   ]
  },
  {
   "cell_type": "markdown",
   "id": "122812fe-c262-453d-a7b8-75a633034999",
   "metadata": {},
   "source": [
    "**Actividad 4.2**\n",
    ". Escribir una función que reciba un número entero positivo y devuelva su factorial."
   ]
  },
  {
   "cell_type": "code",
   "execution_count": 25,
   "id": "3c474ce7-cbb1-4643-afec-9866da1bbc78",
   "metadata": {},
   "outputs": [
    {
     "name": "stdout",
     "output_type": "stream",
     "text": [
      "Ingrese un número entero positivo:  4\n"
     ]
    },
    {
     "name": "stdout",
     "output_type": "stream",
     "text": [
      "El factorial de 4 es: 24\n"
     ]
    }
   ],
   "source": [
    "def calcular_factorial(numero):\n",
    "    factorial = 1\n",
    "    for i in range(1, numero + 1):\n",
    "        factorial *= i\n",
    "    return factorial\n",
    "\n",
    "numero = int(input(\"Ingrese un número entero positivo: \"))\n",
    "resultado = calcular_factorial(numero)\n",
    "print(f\"El factorial de {numero} es: {resultado}\")\n"
   ]
  },
  {
   "cell_type": "code",
   "execution_count": null,
   "id": "b3cd90c7-daa6-446a-aee4-ff79a49224be",
   "metadata": {},
   "outputs": [],
   "source": []
  }
 ],
 "metadata": {
  "kernelspec": {
   "display_name": "Python 3 (ipykernel)",
   "language": "python",
   "name": "python3"
  },
  "language_info": {
   "codemirror_mode": {
    "name": "ipython",
    "version": 3
   },
   "file_extension": ".py",
   "mimetype": "text/x-python",
   "name": "python",
   "nbconvert_exporter": "python",
   "pygments_lexer": "ipython3",
   "version": "3.13.2"
  }
 },
 "nbformat": 4,
 "nbformat_minor": 5
}
